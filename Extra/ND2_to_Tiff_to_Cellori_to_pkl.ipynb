{
 "cells": [
  {
   "cell_type": "code",
   "execution_count": 2,
   "metadata": {},
   "outputs": [],
   "source": [
    "#Import pakages\n",
    "\n",
    "import matplotlib.pyplot as plt\n",
    "import numpy as np\n",
    "import pandas as pd\n",
    "from nd2reader import ND2Reader\n",
    "from tifffile import imwrite\n",
    "import os\n",
    "import glob\n",
    "\n",
    "\n",
    "%matplotlib inline\n",
    "plt.rcParams['figure.dpi'] = 300\n",
    "plt.rcParams['savefig.dpi'] = 300"
   ]
  },
  {
   "cell_type": "markdown",
   "metadata": {},
   "source": [
    "# ND2 to Tiff"
   ]
  },
  {
   "cell_type": "code",
   "execution_count": 13,
   "metadata": {},
   "outputs": [
    {
     "data": {
      "text/plain": [
       "{'height': 22280,\n",
       " 'width': 22324,\n",
       " 'date': datetime.datetime(2022, 4, 12, 16, 54, 48),\n",
       " 'fields_of_view': [0],\n",
       " 'frames': [0],\n",
       " 'z_levels': [],\n",
       " 'z_coordinates': [4315.65],\n",
       " 'total_images_per_channel': 1,\n",
       " 'channels': ['DAPI'],\n",
       " 'pixel_microns': 1.625,\n",
       " 'num_frames': 1,\n",
       " 'experiment': {'description': '', 'loops': []},\n",
       " 'events': []}"
      ]
     },
     "execution_count": 13,
     "metadata": {},
     "output_type": "execute_result"
    }
   ],
   "source": [
    "images.metadata #worked"
   ]
  },
  {
   "cell_type": "code",
   "execution_count": 11,
   "metadata": {},
   "outputs": [
    {
     "data": {
      "text/plain": [
       "{'height': 24120,\n",
       " 'width': 24167,\n",
       " 'date': datetime.datetime(2022, 7, 18, 14, 5, 33),\n",
       " 'fields_of_view': [0],\n",
       " 'frames': [0],\n",
       " 'z_levels': [],\n",
       " 'z_coordinates': [4490.55],\n",
       " 'total_images_per_channel': 1,\n",
       " 'channels': ['DAPI'],\n",
       " 'pixel_microns': 1.625,\n",
       " 'num_frames': 1,\n",
       " 'experiment': {'description': '', 'loops': []},\n",
       " 'events': []}"
      ]
     },
     "execution_count": 11,
     "metadata": {},
     "output_type": "execute_result"
    }
   ],
   "source": [
    "images.metadata"
   ]
  },
  {
   "cell_type": "code",
   "execution_count": 12,
   "metadata": {},
   "outputs": [
    {
     "name": "stdout",
     "output_type": "stream",
     "text": [
      "/Volumes/4TDATA_RAR/RAR/Shaffer_Scope/20220412_Cas12_12/20220412_165441_575__Plate20220412_Cas12_Rosa_Well1_ChannelDAPI_Seq0000.nd2\n"
     ]
    }
   ],
   "source": [
    "\n",
    "paths_im = glob.glob(\"/Volumes/GoogleDrive/My Drive/Hueros_Shared/Data_to_go_Through/20220413_Cas12/*.nd2\")\n",
    "for i in paths_im:\n",
    "    print(i)\n",
    "    with ND2Reader(i) as images:\n",
    "        imwrite(os.path.join(i,i.replace('.nd2','.tif')),images[0],ome=True,photometric='minisblack')"
   ]
  },
  {
   "cell_type": "markdown",
   "metadata": {},
   "source": [
    "# Get cell counts \n",
    "## Run Cellori\n",
    "\n",
    "### https://cellori.readthedocs.io/en/latest/"
   ]
  },
  {
   "cell_type": "code",
   "execution_count": 6,
   "metadata": {},
   "outputs": [
    {
     "name": "stdout",
     "output_type": "stream",
     "text": [
      "1  out of  10\n",
      "2  out of  10\n",
      "3  out of  10\n",
      "4  out of  10\n",
      "5  out of  10\n",
      "6  out of  10\n",
      "7  out of  10\n",
      "8  out of  10\n",
      "9  out of  10\n",
      "10  out of  10\n"
     ]
    }
   ],
   "source": [
    "from cellori import Cellori\n",
    "import pandas as pd\n",
    "import glob\n",
    "\n",
    "# Path to folder containing all .tif\n",
    "paths_im = \"/Volumes/GoogleDrive/My Drive/Hueros_Shared/Data_to_go_Through/20220413_Cas12/*.tif\"\n",
    "# Path to output folder\n",
    "outDir = '/Volumes/GoogleDrive/My Drive/Hueros_Shared/Data_to_go_Through/20220413_Cas12/Cellori'\n",
    "\n",
    "# sigma\n",
    "sigma = 1.4\n",
    "#block of pixels used for adaptive background thresholding\n",
    "block = 17\n",
    "#max nucleus size\n",
    "size = 4\n",
    "\n",
    "paths_im = glob.glob(paths_im)\n",
    "cnt = 1\n",
    "for path in paths_im:\n",
    "    print(cnt,\" out of \", len(paths_im))\n",
    "    cnt += 1\n",
    "    \n",
    "    # Use custom parameters.\n",
    "    coords = Cellori(path).segment(sigma=sigma,block_size=block,nuclei_diameter=size)\n",
    "\n",
    "    df = pd.DataFrame(coords[1], columns = ['x','y'])\n",
    "\n",
    "    df.to_pickle(outDir +\"/\"+ path.split('/')[-1][0:-4] + \".pkl\")"
   ]
  },
  {
   "cell_type": "code",
   "execution_count": null,
   "metadata": {},
   "outputs": [],
   "source": []
  }
 ],
 "metadata": {
  "kernelspec": {
   "display_name": "Python 3",
   "language": "python",
   "name": "python3"
  },
  "language_info": {
   "codemirror_mode": {
    "name": "ipython",
    "version": 3
   },
   "file_extension": ".py",
   "mimetype": "text/x-python",
   "name": "python",
   "nbconvert_exporter": "python",
   "pygments_lexer": "ipython3",
   "version": "3.8.5"
  }
 },
 "nbformat": 4,
 "nbformat_minor": 4
}
