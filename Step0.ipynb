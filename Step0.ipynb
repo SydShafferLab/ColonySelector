{
 "cells": [
  {
   "cell_type": "code",
   "execution_count": 1,
   "metadata": {},
   "outputs": [],
   "source": [
    "#Import pakages\n",
    "\n",
    "import matplotlib.pyplot as plt\n",
    "import numpy as np\n",
    "import pandas as pd\n",
    "\n",
    "\n",
    "%matplotlib inline\n",
    "plt.rcParams['figure.dpi'] = 300\n",
    "plt.rcParams['savefig.dpi'] = 300"
   ]
  },
  {
   "cell_type": "markdown",
   "metadata": {},
   "source": [
    "# Convert files to tif"
   ]
  },
  {
   "cell_type": "code",
   "execution_count": 15,
   "metadata": {},
   "outputs": [],
   "source": [
    "from tifffile import imwrite\n",
    "import os\n",
    "from nd2reader import ND2Reader\n",
    "import glob\n",
    "\n",
    "# Path to folder containing all .nd2\n",
    "paths_im = glob.glob(\"/Volumes/RAR_HD1/RAR/Shaffer_Scope/20220310_DKK1/untitledfolder/**/*.nd2\")\n",
    "\n",
    "for i in paths_im:\n",
    "    with ND2Reader(i) as images:\n",
    "        imwrite(os.path.join(i,i.replace('.nd2','.tif')),images[0],ome=True,photometric='minisblack')"
   ]
  },
  {
   "cell_type": "markdown",
   "metadata": {},
   "source": [
    "# Get cell counts \n",
    "## Run Cellori\n",
    "\n",
    "### https://cellori.readthedocs.io/en/latest/"
   ]
  },
  {
   "cell_type": "code",
   "execution_count": 18,
   "metadata": {},
   "outputs": [
    {
     "name": "stdout",
     "output_type": "stream",
     "text": [
      "1  out of  2\n",
      "2  out of  2\n"
     ]
    }
   ],
   "source": [
    "from cellori import Cellori\n",
    "import pandas as pd\n",
    "import glob\n",
    "\n",
    "# Path to folder containing all .tif\n",
    "paths_im = \"/Volumes/RAR_HD1/RAR/Shaffer_Scope/20220310_DKK1/20220310_105522_239/*.tif\"\n",
    "# Path to output folder\n",
    "outDir = '/Volumes/RAR_HD1/RAR/Shaffer_Scope/20220310_DKK1/20220310_105522_239/Cellori'\n",
    "\n",
    "# sigma\n",
    "sigma = 2\n",
    "#block of pixels used for adaptive background thresholding\n",
    "block = 11\n",
    "#max nucleus size\n",
    "size = 6\n",
    "\n",
    "paths_im = glob.glob(paths_im)\n",
    "cnt = 1\n",
    "for path in paths_im:\n",
    "    print(cnt,\" out of \", len(paths_im))\n",
    "    cnt += 1\n",
    "    \n",
    "    # Use custom parameters.\n",
    "    coords = Cellori(path).segment(sigma=sigma,block_size=block,nuclei_diameter=size)\n",
    "\n",
    "    df = pd.DataFrame(coords[1], columns = ['x','y'])\n",
    "\n",
    "    df.to_pickle(outDir +\"/\"+ path.split('/')[-1][0:-4] + \".pkl\")\n",
    "            "
   ]
  },
  {
   "cell_type": "code",
   "execution_count": 12,
   "metadata": {},
   "outputs": [
    {
     "name": "stdout",
     "output_type": "stream",
     "text": [
      "std:10.003.00\n"
     ]
    }
   ],
   "source": [
    " print(\"std:%.2f%.2f\"%(10,3))"
   ]
  },
  {
   "cell_type": "code",
   "execution_count": 17,
   "metadata": {},
   "outputs": [],
   "source": []
  },
  {
   "cell_type": "code",
   "execution_count": null,
   "metadata": {},
   "outputs": [],
   "source": []
  }
 ],
 "metadata": {
  "kernelspec": {
   "display_name": "Python 3",
   "language": "python",
   "name": "python3"
  },
  "language_info": {
   "codemirror_mode": {
    "name": "ipython",
    "version": 3
   },
   "file_extension": ".py",
   "mimetype": "text/x-python",
   "name": "python",
   "nbconvert_exporter": "python",
   "pygments_lexer": "ipython3",
   "version": "3.8.5"
  }
 },
 "nbformat": 4,
 "nbformat_minor": 4
}
